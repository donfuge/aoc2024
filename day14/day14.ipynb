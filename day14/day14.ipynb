{
 "cells": [
  {
   "cell_type": "code",
   "execution_count": 1,
   "metadata": {},
   "outputs": [],
   "source": [
    "import re\n",
    "import math\n",
    "import numpy as np\n",
    "import matplotlib.pyplot as plt"
   ]
  },
  {
   "cell_type": "code",
   "execution_count": null,
   "metadata": {},
   "outputs": [],
   "source": [
    "def preprocess(fname):\n",
    "    robots = []\n",
    "    with open(fname, \"r\") as f:\n",
    "        for line in f.readlines():\n",
    "            x, y, vx, vy = map(int, re.findall(r\"\\-?\\d+\", line))\n",
    "            robots.append({\"x\": x, \"y\": y, \"vx\": vx, \"vy\": vy})\n",
    "    return robots\n",
    "\n",
    "def part1(robots, sizex, sizey):\n",
    "    dt = 100\n",
    "    num_quadrants = [0,0,0,0]\n",
    "    \n",
    "    for r in robots:\n",
    "        r[\"x\"] = (r[\"x\"] + dt * r[\"vx\"]) % (sizex)\n",
    "        r[\"y\"] = (r[\"y\"] + dt * r[\"vy\"]) % (sizey)\n",
    "\n",
    "        if r[\"x\"] in range(sizex//2):\n",
    "            if r[\"y\"] in range(sizey//2):\n",
    "                num_quadrants[0] += 1\n",
    "            elif r[\"y\"] in range(sizey//2 + 1, sizey + 1):\n",
    "                num_quadrants[1] += 1\n",
    "        elif r[\"x\"] in range(sizex//2 + 1, sizex):\n",
    "            if r[\"y\"] in range(sizey//2):\n",
    "                num_quadrants[2] += 1\n",
    "            elif r[\"y\"] in range(sizey//2 + 1, sizey + 1):\n",
    "                num_quadrants[3] += 1   \n",
    "                \n",
    "    return math.prod(num_quadrants)\n",
    "\n",
    "robots = preprocess(\"day14_example.txt\")\n",
    "part1_example_sol = part1(robots, 7, 11)\n",
    "print(f\"Part 1 solution for example data: {(part1_example_sol)}\")\n",
    "assert (part1_example_sol) == 12"
   ]
  },
  {
   "cell_type": "code",
   "execution_count": null,
   "metadata": {},
   "outputs": [],
   "source": [
    "robots = preprocess(\"day14_input.txt\")\n",
    "part1_sol = part1(robots, 101, 103)\n",
    "print(f\"Part 1 solution: {(part1_sol)}\")"
   ]
  },
  {
   "cell_type": "code",
   "execution_count": null,
   "metadata": {},
   "outputs": [],
   "source": [
    "%matplotlib qt\n",
    "\n",
    "# part 2\n",
    "robots = preprocess(\"day14_input.txt\")\n",
    "\n",
    "sizex = 101\n",
    "sizey = 103\n",
    "t = 0\n",
    "\n",
    "fig, ax = plt.subplots()\n",
    "robomap = np.zeros((sizex, sizey))\n",
    "h = ax.imshow(robomap, vmin=0, vmax=1)\n",
    "\n",
    "stdx = []\n",
    "stdy = []\n",
    "\n",
    "while True:\n",
    "    dt = 1\n",
    "    t += dt\n",
    "    robomap = np.zeros((sizex, sizey))\n",
    "    for r in robots:\n",
    "        r[\"x\"] = (r[\"x\"] + dt * r[\"vx\"]) % (sizex)\n",
    "        r[\"y\"] = (r[\"y\"] + dt * r[\"vy\"]) % (sizey)\n",
    "        robomap[r[\"x\"], r[\"y\"]] = 1\n",
    "\n",
    "    stdx.append(np.std([r[\"x\"] for r in robots]))\n",
    "    stdy.append(np.std([r[\"y\"] for r in robots]))\n",
    "\n",
    "    if stdx[-1] < 25 and stdy[-1] < 25:\n",
    "        print(f\"{t=}\")\n",
    "        h.set_array(robomap)\n",
    "        plt.draw()\n",
    "        ax.set_title(f\"{t} s\")\n",
    "        plt.waitforbuttonpress()\n",
    "         "
   ]
  }
 ],
 "metadata": {
  "kernelspec": {
   "display_name": "qcodes",
   "language": "python",
   "name": "python3"
  },
  "language_info": {
   "codemirror_mode": {
    "name": "ipython",
    "version": 3
   },
   "file_extension": ".py",
   "mimetype": "text/x-python",
   "name": "python",
   "nbconvert_exporter": "python",
   "pygments_lexer": "ipython3",
   "version": "3.12.7"
  }
 },
 "nbformat": 4,
 "nbformat_minor": 2
}
