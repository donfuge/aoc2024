{
 "cells": [
  {
   "cell_type": "code",
   "execution_count": 7,
   "metadata": {},
   "outputs": [],
   "source": [
    "import re\n",
    "from operator import add, mul\n",
    "from itertools import product"
   ]
  },
  {
   "cell_type": "code",
   "execution_count": null,
   "metadata": {},
   "outputs": [],
   "source": [
    "def preprocess(fname):\n",
    "    equations = []\n",
    "    with open(fname, \"r\") as f:\n",
    "        for line in f.readlines():\n",
    "            nums = map(int, re.findall(r\"\\-?\\d+\", line))\n",
    "            equations.append(list(nums))\n",
    "    return equations\n",
    "\n",
    "def part1(equations,ops):\n",
    "\n",
    "    cal_result = 0\n",
    "\n",
    "    for eq in equations:\n",
    "        target = eq[0]\n",
    "        nums = eq[1:]\n",
    "\n",
    "        combos = product(ops, repeat=len(nums)-1)\n",
    "\n",
    "        for combo in combos:\n",
    "            for idx, op in enumerate(combo):\n",
    "                if idx == 0:\n",
    "                    result = op(nums[0], nums[1])\n",
    "                else:\n",
    "                    result = op(result, nums[idx+1])\n",
    "            if result == target:\n",
    "                cal_result += target\n",
    "                break\n",
    "        \n",
    "    return cal_result\n",
    "\n",
    "equations = preprocess(\"day07_example.txt\")\n",
    "part1_example_sol = part1(equations, [add, mul])\n",
    "print(f\"Part 1 solution for example data: {(part1_example_sol)}\")\n",
    "assert (part1_example_sol) == 3749"
   ]
  },
  {
   "cell_type": "code",
   "execution_count": null,
   "metadata": {},
   "outputs": [],
   "source": [
    "equations = preprocess(\"day07_input.txt\")\n",
    "part1_sol = part1(equations, [add, mul])\n",
    "print(f\"Part 1 solution: {(part1_sol)}\")"
   ]
  },
  {
   "cell_type": "code",
   "execution_count": null,
   "metadata": {},
   "outputs": [],
   "source": [
    "def concat(a,b):\n",
    "    digits_b = len(str(b))\n",
    "    return 10**digits_b * a + b\n",
    "\n",
    "equations = preprocess(\"day07_example.txt\")\n",
    "part2_example_sol = part1(equations, [add, mul, concat])\n",
    "print(f\"Part 2 solution for example data: {(part2_example_sol)}\")\n",
    "assert (part2_example_sol) == 11387"
   ]
  },
  {
   "cell_type": "code",
   "execution_count": null,
   "metadata": {},
   "outputs": [],
   "source": [
    "equations = preprocess(\"day07_input.txt\")\n",
    "part2_sol = part1(equations, [add, mul, concat])\n",
    "print(f\"Part 2 solution: {(part2_sol)}\")"
   ]
  }
 ],
 "metadata": {
  "kernelspec": {
   "display_name": "qcodes",
   "language": "python",
   "name": "python3"
  },
  "language_info": {
   "codemirror_mode": {
    "name": "ipython",
    "version": 3
   },
   "file_extension": ".py",
   "mimetype": "text/x-python",
   "name": "python",
   "nbconvert_exporter": "python",
   "pygments_lexer": "ipython3",
   "version": "3.12.7"
  }
 },
 "nbformat": 4,
 "nbformat_minor": 2
}
