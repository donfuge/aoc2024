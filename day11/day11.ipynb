{
 "cells": [
  {
   "cell_type": "code",
   "execution_count": 11,
   "metadata": {},
   "outputs": [],
   "source": [
    "import re\n",
    "from collections import defaultdict"
   ]
  },
  {
   "cell_type": "code",
   "execution_count": null,
   "metadata": {},
   "outputs": [],
   "source": [
    "def preprocess(fname):\n",
    "    with open(fname, \"r\") as f:\n",
    "        line = f.readline()\n",
    "        nums = map(int, re.findall(r\"\\-?\\d+\", line))\n",
    "    return list(nums)\n",
    "\n",
    "def split(num):\n",
    "    num = str(num)\n",
    "    leftnum = int(num[0:len(num)//2])\n",
    "    rightnum = int(num[len(num)//2:])\n",
    "    return leftnum, rightnum\n",
    "\n",
    "def part1(stones, blinks):\n",
    "    stone_dict = defaultdict(int)\n",
    "\n",
    "    for stone in stones:\n",
    "        stone_dict[stone] += 1\n",
    "    old_stones = stone_dict\n",
    "\n",
    "    for b in range(blinks):\n",
    "        new_stones = defaultdict(int)\n",
    "        for k, v in old_stones.items():\n",
    "            if k == 0:\n",
    "                new_stones[1] += v\n",
    "            elif len(str(k)) % 2 == 0:\n",
    "                leftnum, rightnum = split(k)\n",
    "                new_stones[leftnum] += v\n",
    "                new_stones[rightnum] += v\n",
    "            else:\n",
    "                new_stones[k*2024] += v\n",
    "        \n",
    "        old_stones = new_stones\n",
    "\n",
    "    num_stones = sum(new_stones.values())\n",
    "\n",
    "    return num_stones\n",
    "\n",
    "stones = preprocess(\"day11_example.txt\")\n",
    "part1_example_sol = part1(stones, 25)\n",
    "\n",
    "print(f\"Part 1 solution for example data: {(part1_example_sol)}\")\n",
    "assert (part1_example_sol) == 55312"
   ]
  },
  {
   "cell_type": "code",
   "execution_count": null,
   "metadata": {},
   "outputs": [],
   "source": [
    "stones = preprocess(\"day11_input.txt\")\n",
    "part1_sol = part1(stones, 25)\n",
    "print(f\"Part 1 solution: {(part1_sol)}\")"
   ]
  },
  {
   "cell_type": "code",
   "execution_count": null,
   "metadata": {},
   "outputs": [],
   "source": [
    "stones = preprocess(\"day11_input.txt\")\n",
    "part2_sol = part1(stones, 75)\n",
    "print(f\"Part 2 solution: {(part2_sol)}\")"
   ]
  }
 ],
 "metadata": {
  "kernelspec": {
   "display_name": "qcodes",
   "language": "python",
   "name": "python3"
  },
  "language_info": {
   "codemirror_mode": {
    "name": "ipython",
    "version": 3
   },
   "file_extension": ".py",
   "mimetype": "text/x-python",
   "name": "python",
   "nbconvert_exporter": "python",
   "pygments_lexer": "ipython3",
   "version": "3.12.7"
  }
 },
 "nbformat": 4,
 "nbformat_minor": 2
}
