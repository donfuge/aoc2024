{
 "cells": [
  {
   "cell_type": "code",
   "execution_count": 5,
   "metadata": {},
   "outputs": [],
   "source": [
    "import numpy as np"
   ]
  },
  {
   "cell_type": "code",
   "execution_count": null,
   "metadata": {},
   "outputs": [],
   "source": [
    "def preprocess(fname):\n",
    "    machines = []\n",
    "    with open(fname, \"r\") as f:\n",
    "        line = f.readline()\n",
    "        while line:\n",
    "            if \"Button A\" in line:\n",
    "                temp = [x.split(\"+\") for x in line.strip().split(\",\")]\n",
    "                A = np.array([temp[0][-1], temp[1][-1]], dtype=np.int64)\n",
    "            elif \"Button B\" in line:\n",
    "                temp = [x.split(\"+\") for x in line.strip().split(\",\")]\n",
    "                B = np.array([temp[0][-1], temp[1][-1]], dtype=np.int64)\n",
    "            elif \"Prize\" in line:\n",
    "                temp = [x.split(\"=\") for x in line.strip().split(\",\")]\n",
    "                p = np.array([temp[0][-1], temp[1][-1]], dtype=np.int64)\n",
    "                machines.append({\"A\": A,\n",
    "                                 \"B\": B,\n",
    "                                 \"p\": p})\n",
    "            line = f.readline()\n",
    "    return machines\n",
    "\n",
    "def part1(machines):\n",
    "    cost = 0\n",
    "    for m in machines:\n",
    "        sol = np.linalg.solve(np.column_stack((m[\"A\"], m[\"B\"])), m[\"p\"])\n",
    "        if np.all(np.dot(np.column_stack((m[\"A\"], m[\"B\"])), np.round(sol)) == m[\"p\"]):\n",
    "            cost += 3 *sol[0] + sol[1]\n",
    "    return cost\n",
    "\n",
    "machines = preprocess(\"day13_example.txt\")\n",
    "part1_example_sol = part1(machines)\n",
    "print(f\"Part 1 solution for example data: {(part1_example_sol)}\")\n",
    "assert (part1_example_sol) == 480"
   ]
  },
  {
   "cell_type": "code",
   "execution_count": null,
   "metadata": {},
   "outputs": [],
   "source": [
    "machines = preprocess(\"day13_input.txt\")\n",
    "part1_sol = part1(machines)\n",
    "print(f\"Part 1 solution: {(part1_sol)}\")"
   ]
  },
  {
   "cell_type": "code",
   "execution_count": null,
   "metadata": {},
   "outputs": [],
   "source": [
    "def part2(machines):\n",
    "    cost = 0\n",
    "    offset = 10000000000000\n",
    "    for m in machines:\n",
    "        m[\"p\"] =  m[\"p\"] + offset\n",
    "        sol = np.linalg.solve(np.column_stack((m[\"A\"], m[\"B\"])), m[\"p\"])\n",
    "        if np.all(np.dot(np.column_stack((m[\"A\"], m[\"B\"])), np.round(sol)) == m[\"p\"]):\n",
    "            cost += 3 *sol[0] + sol[1]\n",
    "    return cost\n",
    "\n",
    "machines = preprocess(\"day13_input.txt\")\n",
    "part2_sol = part2(machines)\n",
    "print(f\"Part 2 solution: {(part2_sol)}\")"
   ]
  }
 ],
 "metadata": {
  "kernelspec": {
   "display_name": "qcodes",
   "language": "python",
   "name": "python3"
  },
  "language_info": {
   "codemirror_mode": {
    "name": "ipython",
    "version": 3
   },
   "file_extension": ".py",
   "mimetype": "text/x-python",
   "name": "python",
   "nbconvert_exporter": "python",
   "pygments_lexer": "ipython3",
   "version": "3.12.7"
  }
 },
 "nbformat": 4,
 "nbformat_minor": 2
}
