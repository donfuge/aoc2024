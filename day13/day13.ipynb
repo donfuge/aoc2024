{
 "cells": [
  {
   "cell_type": "code",
   "execution_count": 1,
   "metadata": {},
   "outputs": [],
   "source": [
    "import numpy as np\n",
    "from scipy.optimize import minimize"
   ]
  },
  {
   "cell_type": "code",
   "execution_count": null,
   "metadata": {},
   "outputs": [],
   "source": [
    "def preprocess(fname):\n",
    "    machines = []\n",
    "    with open(fname, \"r\") as f:\n",
    "        line = f.readline()\n",
    "        while line:\n",
    "            if \"Button A\" in line:\n",
    "                temp = [x.split(\"+\") for x in line.strip().split(\",\")]\n",
    "                A = np.array([temp[0][-1], temp[1][-1]], dtype=np.int64)\n",
    "            elif \"Button B\" in line:\n",
    "                temp = [x.split(\"+\") for x in line.strip().split(\",\")]\n",
    "                B = np.array([temp[0][-1], temp[1][-1]], dtype=np.int64)\n",
    "            elif \"Prize\" in line:\n",
    "                temp = [x.split(\"=\") for x in line.strip().split(\",\")]\n",
    "                p = np.array([temp[0][-1], temp[1][-1]], dtype=np.int64)\n",
    "                machines.append({\"A\": A,\n",
    "                                 \"B\": B,\n",
    "                                 \"p\": p})\n",
    "                \n",
    "            line = f.readline()\n",
    "\n",
    "    return machines\n",
    "\n",
    "def part1(machines):\n",
    "    cost = 0\n",
    "    Apress = np.arange(0,101)\n",
    "    Bpress = np.arange(0,101)\n",
    "\n",
    "    for m in machines:\n",
    "        Acomb = np.outer(Apress, m[\"A\"])\n",
    "        Bcomb = np.outer(Bpress, m[\"B\"])\n",
    "        for Ai, _ in enumerate(Acomb):\n",
    "            total = Acomb[Ai] + Bcomb\n",
    "            found = np.all(total == m[\"p\"], axis=1).nonzero()\n",
    "            if np.any(found[0]):\n",
    "                cost += 3 * Apress[Ai] + Bpress[found[0]]\n",
    "                break\n",
    "\n",
    "    return cost\n",
    "\n",
    "machines = preprocess(\"day13_example.txt\")\n",
    "part1_example_sol = part1(machines)\n",
    "print(f\"Part 1 solution for example data: {(part1_example_sol)}\")\n",
    "assert (part1_example_sol) == 480"
   ]
  },
  {
   "cell_type": "code",
   "execution_count": null,
   "metadata": {},
   "outputs": [],
   "source": [
    "machines = preprocess(\"day13_input.txt\")\n",
    "part1_sol = part1(machines)\n",
    "print(f\"Part 1 solution: {(part1_sol)}\")\n"
   ]
  },
  {
   "cell_type": "code",
   "execution_count": null,
   "metadata": {},
   "outputs": [],
   "source": [
    "part1_example_sol = part1(machines)\n",
    "print(f\"Part 1 solution for example data: {(part1_example_sol)}\")"
   ]
  },
  {
   "cell_type": "code",
   "execution_count": null,
   "metadata": {},
   "outputs": [],
   "source": [
    "def error(x, A, B, p):\n",
    "    na, nb = x\n",
    "    return np.sum((na*A + nb*B - p)**2)\n",
    "\n",
    "def part2(machines):\n",
    "    cost = 0\n",
    "    offset = 10000000000000\n",
    "    for m in machines:\n",
    "        m[\"p\"] = m[\"p\"] + offset\n",
    "        x0 = offset/(0.5 * m[\"A\"] + 0.5 * m[\"B\"])\n",
    "        res = minimize(error, x0, method='nelder-mead', args=(m[\"A\"], m[\"B\"], m[\"p\"]), tol=1e-7, options={\"maxiter\": 10_000})\n",
    "        int_sol = np.round(res.x)\n",
    "        err = error(int_sol, m[\"A\"], m[\"B\"], m[\"p\"])\n",
    "        if err == 0:\n",
    "            cost += 3 * int_sol[0] + int_sol[1]\n",
    "    return cost\n",
    "\n",
    "machines = preprocess(\"day13_input.txt\")\n",
    "part2_sol = part2(machines)\n",
    "print(f\"Part 2 solution: {(part2_sol)}\")"
   ]
  }
 ],
 "metadata": {
  "kernelspec": {
   "display_name": "qcodes",
   "language": "python",
   "name": "python3"
  },
  "language_info": {
   "codemirror_mode": {
    "name": "ipython",
    "version": 3
   },
   "file_extension": ".py",
   "mimetype": "text/x-python",
   "name": "python",
   "nbconvert_exporter": "python",
   "pygments_lexer": "ipython3",
   "version": "3.12.7"
  }
 },
 "nbformat": 4,
 "nbformat_minor": 2
}
