{
 "cells": [
  {
   "cell_type": "code",
   "execution_count": null,
   "metadata": {},
   "outputs": [],
   "source": [
    "from collections import defaultdict\n",
    "from functools import cmp_to_key"
   ]
  },
  {
   "cell_type": "code",
   "execution_count": null,
   "metadata": {},
   "outputs": [],
   "source": [
    "def preprocess(fname):\n",
    "\n",
    "    rules = []\n",
    "    pages = []\n",
    "    \n",
    "    with open(fname, \"r\") as f:\n",
    "        for line in f.readlines():\n",
    "            if \"|\" in line:\n",
    "                rules.append([int(x) for x in line.split(\"|\")])\n",
    "            elif \",\" in line:\n",
    "                pages.append([int(x) for x in line.split(\",\")])\n",
    "\n",
    "\n",
    "    before = defaultdict(set)\n",
    "    after = defaultdict(set)\n",
    "\n",
    "    for rule in rules:\n",
    "        before[rule[0]].add(rule[1])\n",
    "        after[rule[1]].add(rule[0])\n",
    "\n",
    "    return rules, pages, before, after\n",
    "\n",
    "def check(row, before, after):\n",
    "    for idx in range(len(row)):\n",
    "        pages_before = set(row[:idx])\n",
    "        pages_after = set(row[idx:])\n",
    "        if pages_before.intersection(before[row[idx]]) or pages_after.intersection(after[row[idx]]):\n",
    "            return False\n",
    "    return True\n",
    "\n",
    "def part1(pages, before, after):\n",
    "    correct_pages = []\n",
    "    for row in pages:\n",
    "        if check(row, before, after):\n",
    "            correct_pages.append(row)\n",
    "    sum = 0\n",
    "    for page in correct_pages:\n",
    "        sum += page[len(page)//2]\n",
    "\n",
    "    return sum\n",
    "\n",
    "def part2(pages, before, after):\n",
    "    correct_pages = []\n",
    "    for row in pages:\n",
    "        if check(row, before, after):\n",
    "            correct_pages.append(row)\n",
    "    sum = 0\n",
    "    for row in correct_pages:\n",
    "        sum += row[len(row)//2]\n",
    "\n",
    "    return sum"
   ]
  },
  {
   "cell_type": "code",
   "execution_count": null,
   "metadata": {},
   "outputs": [],
   "source": [
    "rules, pages, before, after = preprocess(\"day05_example.txt\")\n",
    "\n",
    "part1_example_sol = part1(pages, before, after)\n",
    "print(f\"Part 1 solution for example data: {part1_example_sol}\")\n",
    "assert part1_example_sol == 143\n",
    "\n",
    "rules, pages, before, after = preprocess(\"day05_input.txt\")\n",
    "\n",
    "part1_sol = part1(pages, before, after)\n",
    "print(f\"Part 1 solution: {part1_sol}\")"
   ]
  },
  {
   "cell_type": "code",
   "execution_count": null,
   "metadata": {},
   "outputs": [],
   "source": [
    "rules, pages, before, after = preprocess(\"day05_example.txt\")\n",
    "\n",
    "def compare(item1, item2):\n",
    "    if item2 in after[item1]:\n",
    "        return -1\n",
    "    elif item2 in before[item1]:\n",
    "        return 1\n",
    "    else:\n",
    "        return 0\n",
    "\n",
    "def part2(pages, before, after):\n",
    "    incorrect_pages = []\n",
    "    for row in pages:\n",
    "        if not check(row, before, after):\n",
    "            incorrect_pages.append(row)\n",
    "    sum = 0\n",
    "    for row in incorrect_pages:\n",
    "        ordered = row\n",
    "        ordered.sort(key=cmp_to_key(compare))\n",
    "        sum += ordered[len(ordered)//2]\n",
    "    return sum\n",
    "\n",
    "part2(pages, before, after)\n"
   ]
  },
  {
   "cell_type": "code",
   "execution_count": null,
   "metadata": {},
   "outputs": [],
   "source": [
    "rules, pages, before, after = preprocess(\"day05_example.txt\")\n",
    "\n",
    "part2_example_sol = part2(pages, before, after)\n",
    "print(f\"Part 2 solution for example data: {part2_example_sol}\")\n",
    "assert part2_example_sol == 123\n",
    "\n",
    "rules, pages, before, after = preprocess(\"day05_input.txt\")\n",
    "\n",
    "part2_sol = part2(pages, before, after)\n",
    "print(f\"Part 2 solution: {part2_sol}\")"
   ]
  }
 ],
 "metadata": {
  "kernelspec": {
   "display_name": "qcodes",
   "language": "python",
   "name": "python3"
  },
  "language_info": {
   "codemirror_mode": {
    "name": "ipython",
    "version": 3
   },
   "file_extension": ".py",
   "mimetype": "text/x-python",
   "name": "python",
   "nbconvert_exporter": "python",
   "pygments_lexer": "ipython3",
   "version": "3.12.7"
  }
 },
 "nbformat": 4,
 "nbformat_minor": 2
}
