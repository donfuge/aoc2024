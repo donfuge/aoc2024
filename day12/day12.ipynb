{
 "cells": [
  {
   "cell_type": "code",
   "execution_count": 1,
   "metadata": {},
   "outputs": [],
   "source": [
    "import numpy as np\n",
    "import matplotlib.pyplot as plt\n",
    "from skimage.segmentation import flood_fill"
   ]
  },
  {
   "cell_type": "code",
   "execution_count": null,
   "metadata": {},
   "outputs": [],
   "source": [
    "def preprocess(fname):\n",
    "    garden = []\n",
    "    with open(fname, \"r\") as f:\n",
    "        for line in f.readlines():\n",
    "            line_conv = [ord(x) for x in line.strip()]\n",
    "            garden.append(line_conv)\n",
    "    matrix = np.array(garden)\n",
    "    return matrix\n",
    "\n",
    "# nearest neighbors\n",
    "nn = [( 0,  1),\n",
    "      ( 1,  0),\n",
    "      (-1,  0),\n",
    "      ( 0, -1)]\n",
    "\n",
    "def get_num_boundaries(segment, idx):\n",
    "    pad_width = 1\n",
    "    segment = np.pad(segment, pad_width=pad_width)\n",
    "    boundaries = 0\n",
    "    for n in nn:\n",
    "        rn, cn = idx[0] + n[0], idx[1] + n[1]\n",
    "        if not segment[rn + pad_width, cn + pad_width]:\n",
    "            boundaries += 1\n",
    "    return boundaries\n",
    "\n",
    "def get_perimeter(segment):\n",
    "    peri = 0\n",
    "    segment_idx = list(zip(*(segment==True).nonzero()))\n",
    "    for idx in segment_idx:\n",
    "        peri += get_num_boundaries(segment, idx)\n",
    "    return peri\n",
    "\n",
    "def part1(garden):\n",
    "    filled = 0 * garden\n",
    "    remaining_idx = [(0,0)]\n",
    "    cost = 0\n",
    "\n",
    "    while remaining_idx:\n",
    "        seed_point = remaining_idx[0]\n",
    "        segment = flood_fill(garden, seed_point=seed_point, new_value=0, connectivity=1)==0\n",
    "        area = np.sum(segment)\n",
    "        peri = get_perimeter(segment)            \n",
    "        filled[segment] = 1\n",
    "        cost += area * peri\n",
    "        remaining_idx = list(zip(*(filled==0).nonzero()))\n",
    "\n",
    "    return cost\n",
    "\n",
    "garden = preprocess(\"day12_example.txt\")\n",
    "part1_example_sol = part1(garden)\n",
    "print(f\"Part 1 solution for example data: {(part1_example_sol)}\")\n",
    "assert (part1_example_sol) == 1930"
   ]
  },
  {
   "cell_type": "code",
   "execution_count": null,
   "metadata": {},
   "outputs": [],
   "source": [
    "garden = preprocess(\"day12_example2.txt\")\n",
    "part1_example2_sol = part1(garden)\n",
    "print(f\"Part 1 solution for 2nd example data: {(part1_example2_sol)}\")\n",
    "assert (part1_example2_sol) == 772"
   ]
  },
  {
   "cell_type": "code",
   "execution_count": null,
   "metadata": {},
   "outputs": [],
   "source": [
    "garden = preprocess(\"day12_input.txt\")\n",
    "part1_sol = part1(garden)\n",
    "print(f\"Part 1 solution: {part1_sol}\")"
   ]
  },
  {
   "cell_type": "code",
   "execution_count": 5,
   "metadata": {},
   "outputs": [],
   "source": [
    "def get_num_segments(img):\n",
    "    filled = 0 * img\n",
    "    remaining_idx = [(0,0)]\n",
    "    counter = 0\n",
    "\n",
    "    while remaining_idx:\n",
    "        seed_point = remaining_idx[0]\n",
    "        segment = flood_fill(img, seed_point=seed_point, new_value=0, connectivity=1)==0\n",
    "        filled[segment] = 1\n",
    "        counter += 1\n",
    "        remaining_idx = list(zip(*(filled==0).nonzero()))\n",
    "\n",
    "    return counter"
   ]
  },
  {
   "cell_type": "code",
   "execution_count": null,
   "metadata": {},
   "outputs": [],
   "source": [
    "def part2(garden):\n",
    "    filled = 0 * garden\n",
    "    remaining_idx = [(0,0)]\n",
    "    cost = 0\n",
    "\n",
    "    while remaining_idx:\n",
    "        seed_point = remaining_idx[0]\n",
    "        segment = flood_fill(garden, seed_point=seed_point, new_value=0, connectivity=1)==0\n",
    "        padded_segment = np.pad(segment, pad_width=1).repeat(2, axis=0).repeat(2, axis=1)\n",
    "        diffx = (np.diff(padded_segment, axis=0, prepend=0))\n",
    "        diffy = (np.diff(padded_segment, axis=1, prepend=0))\n",
    "        area = np.sum(segment)\n",
    "        num_edges = get_num_segments(diffx) - 1 + get_num_segments(diffy) - 1\n",
    "        filled[segment] = 1\n",
    "        cost += area * num_edges\n",
    "        remaining_idx = list(zip(*(filled==0).nonzero()))\n",
    "\n",
    "    return cost\n",
    "\n",
    "garden = preprocess(\"day12_example.txt\")\n",
    "part2_example_sol = part2(garden)\n",
    "print(f\"Part 2 solution for example data: {(part2_example_sol)}\")\n",
    "assert (part2_example_sol) == 1206"
   ]
  },
  {
   "cell_type": "code",
   "execution_count": null,
   "metadata": {},
   "outputs": [],
   "source": [
    "garden = preprocess(\"day12_input.txt\")\n",
    "part2_sol = part2(garden)\n",
    "print(f\"Part 2 solution: {part2_sol}\")"
   ]
  },
  {
   "cell_type": "code",
   "execution_count": 8,
   "metadata": {},
   "outputs": [],
   "source": [
    "def visu(segment):\n",
    "    fig, axs = plt.subplots(ncols=4, figsize=(12,12))\n",
    "    padded_segment = np.pad(segment, pad_width=1).repeat(2, axis=0).repeat(2, axis=1)\n",
    "    diffx = (np.diff(padded_segment, axis=0, prepend=0))\n",
    "    diffy = (np.diff(padded_segment, axis=1, prepend=0))\n",
    "\n",
    "    axs[0].pcolormesh(padded_segment, edgecolors='w', linewidth=0.5)\n",
    "    axs[1].pcolormesh(diffx, edgecolors='w', linewidth=0.5)\n",
    "    axs[2].pcolormesh(diffy, edgecolors='w', linewidth=0.5)\n",
    "    axs[3].pcolormesh(np.abs(diffx) | np.abs(diffy), edgecolors='w', linewidth=0.5)\n",
    "\n",
    "    for ax in axs:\n",
    "        ax.set_aspect('equal')\n",
    "\n",
    "    plt.show()"
   ]
  }
 ],
 "metadata": {
  "kernelspec": {
   "display_name": "qcodes",
   "language": "python",
   "name": "python3"
  },
  "language_info": {
   "codemirror_mode": {
    "name": "ipython",
    "version": 3
   },
   "file_extension": ".py",
   "mimetype": "text/x-python",
   "name": "python",
   "nbconvert_exporter": "python",
   "pygments_lexer": "ipython3",
   "version": "3.12.7"
  }
 },
 "nbformat": 4,
 "nbformat_minor": 2
}
