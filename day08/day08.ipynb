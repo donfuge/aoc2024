{
 "cells": [
  {
   "cell_type": "code",
   "execution_count": 1,
   "metadata": {},
   "outputs": [],
   "source": [
    "import numpy as np\n",
    "from itertools import combinations"
   ]
  },
  {
   "cell_type": "code",
   "execution_count": null,
   "metadata": {},
   "outputs": [],
   "source": [
    "def preprocess(fname):\n",
    "    antenna_map = []\n",
    "\n",
    "    with open(fname, \"r\") as f:\n",
    "        for line in f.readlines():\n",
    "            antenna_map.append(list(map(ord, line.strip())))\n",
    "\n",
    "    antenna_map = np.array(antenna_map)\n",
    "    antenna_map[antenna_map==ord(\".\")] = 0\n",
    "    return antenna_map\n",
    "\n",
    "def part1(antenna_map):\n",
    "    antinodes = 0\n",
    "    max_row, max_col = antenna_map.shape\n",
    "\n",
    "    freqs  = list(np.unique(antenna_map))\n",
    "    freqs.remove(0)\n",
    "\n",
    "    antinode_locs = []\n",
    "\n",
    "    for f in freqs:\n",
    "\n",
    "        ant_coords = list(zip(*(antenna_map == f).nonzero()))\n",
    "        ant_pairs = list(combinations(ant_coords, 2))\n",
    "\n",
    "        for pair in ant_pairs:\n",
    "            ant1 = np.array(pair[0])\n",
    "            ant2 = np.array(pair[1])\n",
    "            delta = ant2 - ant1\n",
    "\n",
    "            antinode1 = ant1 - delta\n",
    "            antinode2 = ant2 + delta\n",
    "\n",
    "            for antinode in [antinode1, antinode2]:\n",
    "                if tuple(antinode) not in antinode_locs and np.all(np.array((0, 0)) <= antinode) and np.all(antinode < np.array((max_row, max_col))):\n",
    "                    antinode_locs.append(tuple(antinode))\n",
    "                    antinodes += 1\n",
    "\n",
    "    return antinodes\n",
    "\n",
    "antenna_map = preprocess(\"day08_example.txt\")\n",
    "part1_example_sol = part1(antenna_map)\n",
    "print(f\"Part 1 solution for example data: {(part1_example_sol)}\")\n",
    "assert (part1_example_sol) == 14"
   ]
  },
  {
   "cell_type": "code",
   "execution_count": null,
   "metadata": {},
   "outputs": [],
   "source": [
    "antenna_map = preprocess(\"day08_input.txt\")\n",
    "part1_sol = part1(antenna_map)\n",
    "print(f\"Part 1 solution: {(part1_sol)}\")"
   ]
  },
  {
   "cell_type": "code",
   "execution_count": null,
   "metadata": {},
   "outputs": [],
   "source": [
    "def part2(antenna_map):\n",
    "    antinodes = 0\n",
    "    mapsize = np.array(antenna_map.shape)\n",
    "    freqs  = list(np.unique(antenna_map))\n",
    "    freqs.remove(0)\n",
    "\n",
    "    antinode_locs = []\n",
    "\n",
    "    for f in freqs:\n",
    "\n",
    "        ant_coords = list(zip(*(antenna_map == f).nonzero()))\n",
    "        ant_pairs = list(combinations(ant_coords, 2))\n",
    "\n",
    "        for pair in ant_pairs:\n",
    "            ant1 = np.array(pair[0])\n",
    "            ant2 = np.array(pair[1])\n",
    "            delta = ant2 - ant1\n",
    "            for nd in np.arange(np.max(mapsize/delta)):\n",
    "                antinode1 = ant1 - nd * delta\n",
    "                antinode2 = ant2 + nd * delta\n",
    "                for antinode in [antinode1, antinode2]:\n",
    "                    if tuple(antinode) not in antinode_locs and np.all(np.array((0, 0)) <= antinode) and np.all(antinode < mapsize):\n",
    "                        antinode_locs.append(tuple(antinode))\n",
    "                        antinodes += 1\n",
    "\n",
    "    return antinodes\n",
    "\n",
    "antenna_map = preprocess(\"day08_input.txt\")\n",
    "part2_sol = part2(antenna_map)\n",
    "print(f\"Part 2 solution: {(part2_sol)}\")"
   ]
  }
 ],
 "metadata": {
  "kernelspec": {
   "display_name": "qcodes",
   "language": "python",
   "name": "python3"
  },
  "language_info": {
   "codemirror_mode": {
    "name": "ipython",
    "version": 3
   },
   "file_extension": ".py",
   "mimetype": "text/x-python",
   "name": "python",
   "nbconvert_exporter": "python",
   "pygments_lexer": "ipython3",
   "version": "3.12.7"
  }
 },
 "nbformat": 4,
 "nbformat_minor": 2
}
