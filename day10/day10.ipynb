{
 "cells": [
  {
   "cell_type": "code",
   "execution_count": null,
   "metadata": {},
   "outputs": [],
   "source": [
    "import numpy as np\n",
    "from collections import defaultdict"
   ]
  },
  {
   "cell_type": "code",
   "execution_count": null,
   "metadata": {},
   "outputs": [],
   "source": [
    "def preprocess(fname):\n",
    "    matrix = np.genfromtxt(fname, delimiter=1, dtype=int)\n",
    "    return matrix\n",
    "\n",
    "# nearest neighbors\n",
    "nn = [( 0,  1),\n",
    "        ( 1,  0),\n",
    "        (-1,  0),\n",
    "        ( 0, -1)]\n",
    "\n",
    "def build_trail(topomap, row, col, trail=None):\n",
    "    if trail is None:\n",
    "        trail = defaultdict(list)\n",
    "    r, c = topomap.shape\n",
    "\n",
    "    for n in nn:\n",
    "        n_row, n_col = row + n[0], col + n[1]\n",
    "        if (0 <= n_row < r) and (0 <= n_col < c) and (topomap[n_row, n_col] - topomap[row, col]) == 1:\n",
    "            trail[(row, col)].append((n_row, n_col))\n",
    "            if (n_row, n_col) not in trail.keys():\n",
    "                trail = build_trail(topomap, n_row, n_col, trail)\n",
    "    return trail\n",
    "\n",
    "def get_score(trail, topomap):\n",
    "    tops = []\n",
    "    score = 0\n",
    "    for v in trail.values():\n",
    "        for coords in v:\n",
    "            if (topomap[coords] == 9) and (coords not in tops):\n",
    "                tops.append(coords)\n",
    "                score += 1\n",
    "    return score\n",
    "\n",
    "def part1(topomap):\n",
    "    trails = []\n",
    "    trail_scores = []\n",
    "\n",
    "    # find trailheads\n",
    "    head_coords = np.where(topomap==0)\n",
    "\n",
    "    for row, col in zip(head_coords[0], head_coords[1]):\n",
    "        trail = build_trail(topomap, row, col)\n",
    "        trails.append(trail)\n",
    "        trail_score = get_score(trail, topomap)\n",
    "        trail_scores.append(trail_score)\n",
    "\n",
    "    return sum(trail_scores)\n",
    "\n",
    "topomap = preprocess(\"day10_example.txt\")\n",
    "part1_example_sol = part1(topomap)\n",
    "print(f\"Part 1 solution for example data: {(part1_example_sol)}\")\n",
    "assert (part1_example_sol) == 36"
   ]
  },
  {
   "cell_type": "code",
   "execution_count": null,
   "metadata": {},
   "outputs": [],
   "source": [
    "topomap = preprocess(\"day10_input.txt\")\n",
    "part1_sol = part1(topomap)\n",
    "print(f\"Part 1 solution : {part1_sol}\")"
   ]
  },
  {
   "cell_type": "code",
   "execution_count": null,
   "metadata": {},
   "outputs": [],
   "source": [
    "def depth_first_search(trail, current_node, visited, topomap):\n",
    "    visited.add(current_node)\n",
    "    counter = 0\n",
    "    for destination in trail[current_node]:\n",
    "        if topomap[destination] == 9:\n",
    "            counter += 1\n",
    "        elif destination not in visited:\n",
    "            counter += depth_first_search(trail, destination, set(visited), topomap)\n",
    "\n",
    "    return counter\n",
    "\n",
    "def part2(topomap):\n",
    "    trails = []\n",
    "    trail_ratings = []\n",
    "\n",
    "    # find trailheads\n",
    "    head_coords = np.where(topomap==0)\n",
    "\n",
    "    for row, col in zip(head_coords[0], head_coords[1]):\n",
    "        trail = build_trail(topomap, row, col)\n",
    "        trails.append(trail)\n",
    "        trail_rating = depth_first_search(trail, (row, col), set(), topomap)\n",
    "        trail_ratings.append(trail_rating)\n",
    "\n",
    "    return sum(trail_ratings)\n",
    "\n",
    "topomap = preprocess(\"day10_example.txt\")\n",
    "part2_example_sol = part2(topomap)\n",
    "print(f\"Part 2 solution for example data: {(part2_example_sol)}\")\n",
    "assert (part2_example_sol) == 81"
   ]
  },
  {
   "cell_type": "code",
   "execution_count": null,
   "metadata": {},
   "outputs": [],
   "source": [
    "topomap = preprocess(\"day10_input.txt\")\n",
    "part2_sol = part2(topomap)\n",
    "print(f\"Part 2 solution for example data: {part2_sol}\")"
   ]
  }
 ],
 "metadata": {
  "kernelspec": {
   "display_name": "qcodes",
   "language": "python",
   "name": "python3"
  },
  "language_info": {
   "codemirror_mode": {
    "name": "ipython",
    "version": 3
   },
   "file_extension": ".py",
   "mimetype": "text/x-python",
   "name": "python",
   "nbconvert_exporter": "python",
   "pygments_lexer": "ipython3",
   "version": "3.12.7"
  }
 },
 "nbformat": 4,
 "nbformat_minor": 2
}
