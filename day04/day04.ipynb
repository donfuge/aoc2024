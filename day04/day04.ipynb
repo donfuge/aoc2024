{
 "cells": [
  {
   "cell_type": "code",
   "execution_count": 110,
   "metadata": {},
   "outputs": [],
   "source": [
    "import numpy as np"
   ]
  },
  {
   "cell_type": "code",
   "execution_count": 111,
   "metadata": {},
   "outputs": [],
   "source": [
    "def preprocess(fname):\n",
    "    matrix = np.genfromtxt(fname, delimiter=1, dtype=str)\n",
    "    return matrix\n",
    "\n",
    "def sum_rows(matrix):\n",
    "    sum = 0\n",
    "    for row in matrix:\n",
    "        rowstr = \"\".join(row)\n",
    "        sum += rowstr.count(\"XMAS\")\n",
    "    return sum\n",
    "\n",
    "def sum_diags(matrix):\n",
    "    r, c = matrix.shape\n",
    "    sum = 0\n",
    "    for offset in range(-r, r):\n",
    "        rowstr = \"\".join(np.diagonal(matrix, offset=offset))\n",
    "        sum += rowstr.count(\"XMAS\")\n",
    "    return sum\n",
    "\n",
    "def part1(data):\n",
    "    sum = 0\n",
    "    sum += sum_rows(data)\n",
    "    sum += sum_rows(np.fliplr(data))\n",
    "    sum += sum_rows(data.T)\n",
    "    sum += sum_rows(np.fliplr(data.T))\n",
    "    sum += sum_diags(data)\n",
    "    sum += sum_diags(np.fliplr(np.flipud(data)))\n",
    "    sum += sum_diags(np.flipud(data))\n",
    "    sum += sum_diags(np.fliplr(data))\n",
    "    return sum"
   ]
  },
  {
   "cell_type": "code",
   "execution_count": 112,
   "metadata": {},
   "outputs": [
    {
     "name": "stdout",
     "output_type": "stream",
     "text": [
      "Part 1 solution for example data: 18\n",
      "Part 1 solution: 2549\n"
     ]
    }
   ],
   "source": [
    "matrix_example = preprocess(\"day04_example.txt\")\n",
    "\n",
    "part1_example_sol = part1(matrix_example)\n",
    "print(f\"Part 1 solution for example data: {part1_example_sol}\")\n",
    "assert part1_example_sol == 18\n",
    "\n",
    "matrix = preprocess(\"day04_input.txt\")\n",
    "\n",
    "part1_sol = part1(matrix)\n",
    "print(f\"Part 1 solution: {part1_sol}\")"
   ]
  },
  {
   "cell_type": "code",
   "execution_count": 113,
   "metadata": {},
   "outputs": [
    {
     "data": {
      "text/plain": [
       "9"
      ]
     },
     "execution_count": 113,
     "metadata": {},
     "output_type": "execute_result"
    }
   ],
   "source": [
    "val_dict = {\"M\": 1, \"A\": 2, \"S\": 3}\n",
    "\n",
    "mask = np.array([[1,0,3],\n",
    "                 [0,2,0],\n",
    "                 [1,0,3]], dtype=int)\n",
    "\n",
    "def encode(matrix):\n",
    "    encoded = np.zeros_like(matrix, dtype=int)\n",
    "    r, c = matrix.shape\n",
    "\n",
    "    for ri in range(r):\n",
    "        for ci in range(c):\n",
    "            encoded[ri, ci] = val_dict.get(matrix[ri, ci], 0)\n",
    "    return encoded\n",
    "\n",
    "def match(matrix, mask):\n",
    "    relevant_idx = mask > 0\n",
    "    return np.all((matrix == mask)[relevant_idx])\n",
    "\n",
    "def part2(matrix):\n",
    "    encoded_input = encode(matrix)\n",
    "    r, c = matrix.shape\n",
    "\n",
    "    sum = 0\n",
    "    for ri in range(0,r-2):\n",
    "        for ci in range (0, c-2):\n",
    "            sub_matrix = encoded_input[ri:ri+3,ci:ci+3]\n",
    "            sum += match(sub_matrix, mask)\n",
    "            sum += match(sub_matrix, np.fliplr(mask))\n",
    "            sum += match(sub_matrix, mask.T)\n",
    "            sum += match(sub_matrix, np.flipud(mask.T))\n",
    "\n",
    "    return sum\n",
    "\n",
    "part2(matrix_example)"
   ]
  },
  {
   "cell_type": "code",
   "execution_count": 114,
   "metadata": {},
   "outputs": [
    {
     "name": "stdout",
     "output_type": "stream",
     "text": [
      "Part 2 solution for example data: 9\n",
      "Part 2 solution: 2003\n"
     ]
    }
   ],
   "source": [
    "part2_example_sol = part2(matrix_example)\n",
    "print(f\"Part 2 solution for example data: {part2_example_sol}\")\n",
    "assert part2_example_sol == 9\n",
    "\n",
    "part2_sol = part2(matrix)\n",
    "print(f\"Part 2 solution: {part2_sol}\")"
   ]
  }
 ],
 "metadata": {
  "kernelspec": {
   "display_name": "qcodes",
   "language": "python",
   "name": "python3"
  },
  "language_info": {
   "codemirror_mode": {
    "name": "ipython",
    "version": 3
   },
   "file_extension": ".py",
   "mimetype": "text/x-python",
   "name": "python",
   "nbconvert_exporter": "python",
   "pygments_lexer": "ipython3",
   "version": "3.12.7"
  }
 },
 "nbformat": 4,
 "nbformat_minor": 2
}
