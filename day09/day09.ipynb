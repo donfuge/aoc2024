{
 "cells": [
  {
   "cell_type": "code",
   "execution_count": null,
   "metadata": {},
   "outputs": [],
   "source": [
    "import numpy as np"
   ]
  },
  {
   "cell_type": "code",
   "execution_count": null,
   "metadata": {},
   "outputs": [],
   "source": [
    "def preprocess(fname):\n",
    "\n",
    "    def id_generator():\n",
    "        id = np.int64(0)\n",
    "        while True:\n",
    "            yield id\n",
    "            id += 1\n",
    "\n",
    "    id_gen = id_generator()\n",
    "\n",
    "    diskmap = []\n",
    "    with open(fname, \"r\") as f:\n",
    "        for line in f.readlines():\n",
    "            for ci  in range(0, len(line.strip())-1, 2):\n",
    "                file_id = next(id_gen)\n",
    "                diskmap.extend(int(line[ci])*[file_id])\n",
    "                diskmap.extend(int(line[ci+1]) *[-1])\n",
    "            file_id = next(id_gen)\n",
    "            diskmap.extend(int(line.strip()[-1])*[file_id])\n",
    "    return np.array(diskmap)\n",
    "\n",
    "def part1(diskmap):\n",
    "    # total number of file blocks\n",
    "    num_blocks = np.sum(diskmap > 0)\n",
    "\n",
    "    first_empty_idx = 0\n",
    "\n",
    "    while True:\n",
    "        # first empty block index:\n",
    "        first_empty_idx = (diskmap < 0).nonzero()[0][0]\n",
    "        # last nonempty block index\n",
    "        last_full_idx = (diskmap >= 0).nonzero()[0][-1]\n",
    "        if first_empty_idx > last_full_idx:\n",
    "            break\n",
    "        diskmap[first_empty_idx] = diskmap[last_full_idx]\n",
    "        diskmap[last_full_idx] = -1\n",
    "\n",
    "    checksum = np.int64(0)\n",
    "\n",
    "    for ni in np.where(diskmap >= 0)[0]:\n",
    "        checksum += ni*diskmap[ni]\n",
    "    return checksum\n",
    "\n",
    "diskmap = preprocess(\"day09_example.txt\")\n",
    "print(diskmap)\n",
    "part1_example_sol = part1(diskmap)\n",
    "print(f\"Part 1 solution for example data: {(part1_example_sol)}\")\n",
    "assert (part1_example_sol) == 1928"
   ]
  },
  {
   "cell_type": "code",
   "execution_count": null,
   "metadata": {},
   "outputs": [],
   "source": [
    "diskmap = preprocess(\"day09_input.txt\")\n",
    "part1_sol = part1(diskmap)\n",
    "print(f\"Part 1 solution: {(part1_sol)}\")"
   ]
  },
  {
   "cell_type": "code",
   "execution_count": null,
   "metadata": {},
   "outputs": [],
   "source": [
    "def part2(diskmap):\n",
    "    max_file_id = np.max(diskmap)\n",
    "\n",
    "    for file_id in np.arange(max_file_id + 1)[-1:0:-1]:\n",
    "        # attempt moving file file_id\n",
    "        \n",
    "        start_points = np.diff(diskmap, prepend=-1, append=np.inf) != 0\n",
    "        # start_points = np.append(start_points, True)\n",
    "        len_blocks = np.diff(np.where(start_points)[0])\n",
    "\n",
    "        start_locs = np.where(start_points)[0]\n",
    "        # length of file file_id\n",
    "\n",
    "        # type of block:\n",
    "        block_type = diskmap[start_locs[:-1]]\n",
    "        # print(np.where(block_type == file_id)[0])\n",
    "        file_loc = start_locs[np.where(block_type == file_id)[0]][0]\n",
    "        file_len = len_blocks[np.where(block_type == file_id)[0]][0]\n",
    "\n",
    "        empty_locs = start_locs[np.where(block_type < 0)[0]]\n",
    "        empty_lens = len_blocks[np.where(block_type < 0)[0]]\n",
    "        \n",
    "        for elen, eloc in zip(empty_lens, empty_locs):\n",
    "            # print(elen,eloc, file_len)\n",
    "            if elen >= file_len and eloc < file_loc:\n",
    "                # print(f\"Swapping file {file_id}, at {eloc}, len {elen}\")\n",
    "                diskmap[eloc:eloc + file_len] = file_id\n",
    "                diskmap[file_loc:file_loc + file_len] = -1\n",
    "                break\n",
    "\n",
    "\n",
    "    checksum = np.int64(0)\n",
    "\n",
    "    for ni in np.where(diskmap >= 0)[0]:\n",
    "        checksum += ni*diskmap[ni]\n",
    "    return checksum\n",
    "\n",
    "diskmap = preprocess(\"day09_example.txt\")\n",
    "print(diskmap)\n",
    "part2_example_sol = part2(diskmap)\n",
    "print(f\"Part 2 solution for example data: {(part2_example_sol)}\")\n",
    "assert (part2_example_sol) == 2858"
   ]
  },
  {
   "cell_type": "code",
   "execution_count": null,
   "metadata": {},
   "outputs": [],
   "source": [
    "diskmap = preprocess(\"day09_input.txt\")\n",
    "part2_sol = part2(diskmap)\n",
    "print(f\"Part 2 solution for example data: {(part2_sol)}\")"
   ]
  }
 ],
 "metadata": {
  "kernelspec": {
   "display_name": "qcodes",
   "language": "python",
   "name": "python3"
  },
  "language_info": {
   "codemirror_mode": {
    "name": "ipython",
    "version": 3
   },
   "file_extension": ".py",
   "mimetype": "text/x-python",
   "name": "python",
   "nbconvert_exporter": "python",
   "pygments_lexer": "ipython3",
   "version": "3.12.7"
  }
 },
 "nbformat": 4,
 "nbformat_minor": 2
}
